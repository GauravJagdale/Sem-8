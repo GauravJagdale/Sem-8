{
  "nbformat": 4,
  "nbformat_minor": 0,
  "metadata": {
    "colab": {
      "provenance": []
    },
    "kernelspec": {
      "name": "python3",
      "display_name": "Python 3"
    },
    "language_info": {
      "name": "python"
    }
  },
  "cells": [
    {
      "cell_type": "code",
      "execution_count": null,
      "metadata": {
        "id": "7cQBYW7o5MMR"
      },
      "outputs": [],
      "source": [
        "import tensorflow as tf\n",
        "from tensorflow.keras.layers.experimental import preprocessing\n",
        "from sklearn.model_selection import train_test_split\n",
        "from mlxtend.plotting import plot_confusion_matrix\n",
        "from sklearn import metrics\n",
        "import pandas as pd\n",
        "import numpy as np\n",
        "import matplotlib.pyplot as plt\n",
        "import seaborn as sns\n",
        "from tqdm.notebook import tqdm\n",
        "import random\n",
        "import warnings\n",
        "\n",
        "# Suppressing warnings\n",
        "warnings.filterwarnings(\"ignore\")"
      ]
    },
    {
      "cell_type": "code",
      "source": [
        "# Loading Fashion MNIST dataset\n",
        "(train_images, train_labels), (test_images, test_labels) = tf.keras.datasets.fashion_mnist.load_data()\n",
        "\n",
        "# Reshaping image data to match CNN input shape\n",
        "train_images = train_images.reshape((train_images.shape[0], 28, 28, 1))\n",
        "test_images = test_images.reshape((test_images.shape[0], 28, 28, 1))\n",
        "\n",
        "# Converting labels to categorical format\n",
        "train_labels_categorical = tf.keras.utils.to_categorical(train_labels)\n",
        "test_labels_categorical = tf.keras.utils.to_categorical(test_labels)"
      ],
      "metadata": {
        "id": "yUkWvlT85M91"
      },
      "execution_count": null,
      "outputs": []
    },
    {
      "cell_type": "code",
      "source": [
        "# Storing the length of training data\n",
        "train_data_length = len(train_images)\n",
        "\n",
        "# Storing the shape of test labels\n",
        "test_labels_shape = test_labels.shape"
      ],
      "metadata": {
        "id": "sAxd4_5w5NAE"
      },
      "execution_count": null,
      "outputs": []
    },
    {
      "cell_type": "code",
      "source": [
        "# Normalizing pixel values to the range [0, 1]\n",
        "train_images_normalized = train_images.astype('float32') / 255.0\n",
        "test_images_normalized = test_images.astype('float32') / 255.0\n"
      ],
      "metadata": {
        "id": "QEw_-Q_75NCN"
      },
      "execution_count": null,
      "outputs": []
    },
    {
      "cell_type": "code",
      "source": [
        "# Class names for visualization\n",
        "class_names = ['T-shirt/top', 'Trouser', 'Pullover', 'Dress', 'Coat',\n",
        "               'Sandal', 'Shirt', 'Sneaker', 'Bag', 'Ankle boot']"
      ],
      "metadata": {
        "id": "2gJPVHuZ5NEc"
      },
      "execution_count": null,
      "outputs": []
    },
    {
      "cell_type": "code",
      "source": [
        "# Visualizing sample images from the dataset\n",
        "plt.figure(figsize=(10, 10))\n",
        "for i in range(25):\n",
        "    plt.subplot(5, 5, i+1)\n",
        "    plt.xticks([])\n",
        "    plt.yticks([])\n",
        "    plt.grid(False)\n",
        "    plt.imshow(train_images[i], cmap=plt.cm.binary)\n",
        "    plt.xlabel(class_names[train_labels[i]])\n",
        "plt.show()"
      ],
      "metadata": {
        "id": "9XJ2cgwR5NGw"
      },
      "execution_count": null,
      "outputs": []
    },
    {
      "cell_type": "code",
      "source": [
        "# Defining the CNN model architecture\n",
        "model = tf.keras.models.Sequential([\n",
        "    tf.keras.layers.Conv2D(64, kernel_size=(3, 3), input_shape=(28, 28, 1), activation='relu', padding='same', name='conv-layer-1'),\n",
        "    tf.keras.layers.AvgPool2D(pool_size=(2, 2), name='pooling-layer-1'),\n",
        "    tf.keras.layers.Conv2D(32, kernel_size=(3, 3), activation='relu', padding='same', name='conv-layer-2'),\n",
        "    tf.keras.layers.AvgPool2D(pool_size=(2, 2), name='pooling-layer-2'),\n",
        "    tf.keras.layers.GlobalAveragePooling2D(name='pooling-layer-3'),\n",
        "    tf.keras.layers.Dense(len(class_names), activation=\"softmax\", name=\"output-layer\")\n",
        "])"
      ],
      "metadata": {
        "id": "-dC3H1Sa5NJW"
      },
      "execution_count": null,
      "outputs": []
    },
    {
      "cell_type": "code",
      "source": [
        "# Compiling the model\n",
        "model.compile(loss=\"categorical_crossentropy\",\n",
        "             optimizer=\"adam\",\n",
        "             metrics=[\"accuracy\"])"
      ],
      "metadata": {
        "id": "zWTto-pb5NLu"
      },
      "execution_count": null,
      "outputs": []
    },
    {
      "cell_type": "code",
      "source": [
        "# Training the model\n",
        "history = model.fit(train_images, train_labels_categorical, epochs=10, validation_data=(test_images, test_labels_categorical))"
      ],
      "metadata": {
        "id": "VAzIfy1W5NOC"
      },
      "execution_count": null,
      "outputs": []
    },
    {
      "cell_type": "code",
      "source": [
        "# Displaying model summary\n",
        "model.summary()"
      ],
      "metadata": {
        "id": "vA9ZP5_R5NQk"
      },
      "execution_count": null,
      "outputs": []
    },
    {
      "cell_type": "code",
      "source": [
        "# Plotting training history (loss and accuracy)\n",
        "pd.DataFrame(history.history).plot(figsize=(10, 7))\n",
        "plt.title(\"Metrics Graph\")\n",
        "plt.show()"
      ],
      "metadata": {
        "id": "O0FJz3CQ5NS-"
      },
      "execution_count": null,
      "outputs": []
    },
    {
      "cell_type": "code",
      "source": [
        "# Evaluating the model on the test data\n",
        "model.evaluate(test_images, test_labels_categorical)"
      ],
      "metadata": {
        "id": "uKHPIsI_5NVG"
      },
      "execution_count": null,
      "outputs": []
    },
    {
      "cell_type": "code",
      "source": [
        "# Making predictions on test data\n",
        "predictions = model.predict(test_images)"
      ],
      "metadata": {
        "id": "Ofx8GRxr5NXy"
      },
      "execution_count": null,
      "outputs": []
    },
    {
      "cell_type": "code",
      "source": [
        "# Converting predictions and true labels to numerical format\n",
        "predictions = tf.argmax(predictions, axis=1)\n",
        "true_labels = tf.argmax(test_labels_categorical, axis=1)"
      ],
      "metadata": {
        "id": "o49g0Dxr5Naa"
      },
      "execution_count": null,
      "outputs": []
    },
    {
      "cell_type": "code",
      "source": [
        "# Computing and printing accuracy score\n",
        "accuracy = metrics.accuracy_score(true_labels, predictions)\n",
        "print(\"Accuracy:\", accuracy)\n"
      ],
      "metadata": {
        "id": "ak0-_Oyx5Nc2"
      },
      "execution_count": null,
      "outputs": []
    },
    {
      "cell_type": "code",
      "source": [
        "# Generating classification report\n",
        "classification_report = metrics.classification_report(true_labels, predictions)\n",
        "print(\"Classification Report:\\n\", classification_report)"
      ],
      "metadata": {
        "id": "vZTZpFZk5Ner"
      },
      "execution_count": null,
      "outputs": []
    },
    {
      "cell_type": "code",
      "source": [
        "# Generating and plotting confusion matrix\n",
        "confusion_matrix = metrics.confusion_matrix(true_labels, predictions)\n",
        "plot_confusion_matrix(confusion_matrix, figsize=(10, 7), class_names=class_names)\n",
        "plt.title(\"Confusion Matrix\")\n",
        "plt.show()"
      ],
      "metadata": {
        "id": "q9D1I9pN5NiN"
      },
      "execution_count": null,
      "outputs": []
    },
    {
      "cell_type": "code",
      "source": [
        "# Visualizing randomly selected images along with their predicted and true labels\n",
        "selected_images = []\n",
        "selected_labels = []\n",
        "random_indices = random.sample(range(len(test_images)), 10)\n",
        "for idx in random_indices:\n",
        "    selected_images.append(test_images[idx])\n",
        "    selected_labels.append(test_labels_categorical[idx])\n",
        "selected_images = np.array(selected_images)\n",
        "selected_labels = np.array(selected_labels)\n",
        "\n",
        "fig = plt.figure(figsize=(20, 8))\n",
        "rows = 2\n",
        "cols = 5\n",
        "index = 1\n",
        "for image, label in zip(selected_images, selected_labels):\n",
        "    fig.add_subplot(rows, cols, index)\n",
        "    prediction = model.predict(tf.expand_dims(image, axis=0))\n",
        "    prediction = class_names[tf.argmax(prediction.flatten())]\n",
        "    label = class_names[tf.argmax(label)]\n",
        "    plt.title(f\"Label: {label}, Prediction: {prediction}\")\n",
        "    plt.imshow(image/255.)\n",
        "    plt.axis(\"off\")\n",
        "    index += 1\n",
        "plt.show()\n"
      ],
      "metadata": {
        "id": "yeRUJDmM58Ze"
      },
      "execution_count": null,
      "outputs": []
    }
  ]
}